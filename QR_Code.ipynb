{
 "cells": [
  {
   "cell_type": "markdown",
   "id": "ec5b496b",
   "metadata": {},
   "source": [
    "# How to Make a QR Code Generator and Decoder using Python"
   ]
  },
  {
   "cell_type": "markdown",
   "id": "e5db2936",
   "metadata": {},
   "source": [
    "## Tutorial By Bankej Soni"
   ]
  },
  {
   "cell_type": "code",
   "execution_count": null,
   "id": "d64ad5a3",
   "metadata": {},
   "outputs": [],
   "source": []
  },
  {
   "cell_type": "markdown",
   "id": "a29f7195",
   "metadata": {},
   "source": [
    "## To Make a QR Code Generator"
   ]
  },
  {
   "cell_type": "markdown",
   "id": "1304f109",
   "metadata": {},
   "source": [
    "## Step 1 - Install the Necessary Libraries"
   ]
  },
  {
   "cell_type": "code",
   "execution_count": null,
   "id": "988ddb3f",
   "metadata": {},
   "outputs": [],
   "source": [
    "pip install qrcode"
   ]
  },
  {
   "cell_type": "code",
   "execution_count": null,
   "id": "78e41df8",
   "metadata": {},
   "outputs": [],
   "source": [
    "pip install opencv-python"
   ]
  },
  {
   "cell_type": "markdown",
   "id": "5285b9b1",
   "metadata": {},
   "source": [
    "## Step 2 - Import the Necessary Libraries"
   ]
  },
  {
   "cell_type": "code",
   "execution_count": null,
   "id": "7aa3aa6c",
   "metadata": {},
   "outputs": [],
   "source": [
    "import qrcode"
   ]
  },
  {
   "cell_type": "code",
   "execution_count": null,
   "id": "6629f8e6",
   "metadata": {},
   "outputs": [],
   "source": [
    "import cv2"
   ]
  },
  {
   "cell_type": "markdown",
   "id": "7f84130f",
   "metadata": {},
   "source": [
    "## Step 3 - Generate the QR Code"
   ]
  },
  {
   "cell_type": "code",
   "execution_count": null,
   "id": "8cbf462f",
   "metadata": {},
   "outputs": [],
   "source": [
    "QR_Code = qrcode.make(\"URL Or Link\")"
   ]
  },
  {
   "cell_type": "markdown",
   "id": "4638b6ad",
   "metadata": {},
   "source": [
    "## Step 4 - Save the QR Code"
   ]
  },
  {
   "cell_type": "code",
   "execution_count": null,
   "id": "98153347",
   "metadata": {},
   "outputs": [],
   "source": [
    "QR_Code.save(\"Path. For Example to save it on desktop on mac - /Users/username/Desktop/qrcode.jpg\")"
   ]
  },
  {
   "cell_type": "code",
   "execution_count": null,
   "id": "0ac55052",
   "metadata": {},
   "outputs": [],
   "source": []
  },
  {
   "cell_type": "markdown",
   "id": "c3910c86",
   "metadata": {},
   "source": [
    "## To make a QR Code Decoder"
   ]
  },
  {
   "cell_type": "code",
   "execution_count": null,
   "id": "1342a1f9",
   "metadata": {},
   "outputs": [],
   "source": [
    "d = cv2.QRCodeDetector()"
   ]
  },
  {
   "cell_type": "code",
   "execution_count": null,
   "id": "4017cd7a",
   "metadata": {},
   "outputs": [],
   "source": [
    "val , point , straight_qrcode = d.detectAndDecode(cv2.imread(\"Path of the QR Code or the Location. For Example Desktop\"))"
   ]
  },
  {
   "cell_type": "code",
   "execution_count": null,
   "id": "84119071",
   "metadata": {},
   "outputs": [],
   "source": [
    "print(val)"
   ]
  },
  {
   "cell_type": "code",
   "execution_count": null,
   "id": "7b2a09c8",
   "metadata": {},
   "outputs": [],
   "source": []
  },
  {
   "cell_type": "code",
   "execution_count": null,
   "id": "b99757ef",
   "metadata": {},
   "outputs": [],
   "source": []
  },
  {
   "cell_type": "code",
   "execution_count": null,
   "id": "ec7aa705",
   "metadata": {},
   "outputs": [],
   "source": []
  },
  {
   "cell_type": "code",
   "execution_count": null,
   "id": "3c18cdb2",
   "metadata": {},
   "outputs": [],
   "source": []
  }
 ],
 "metadata": {
  "kernelspec": {
   "display_name": "Python 3",
   "language": "python",
   "name": "python3"
  },
  "language_info": {
   "codemirror_mode": {
    "name": "ipython",
    "version": 3
   },
   "file_extension": ".py",
   "mimetype": "text/x-python",
   "name": "python",
   "nbconvert_exporter": "python",
   "pygments_lexer": "ipython3",
   "version": "3.8.8"
  }
 },
 "nbformat": 4,
 "nbformat_minor": 5
}
